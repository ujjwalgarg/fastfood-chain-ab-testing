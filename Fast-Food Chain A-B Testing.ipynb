{
 "cells": [
  {
   "cell_type": "markdown",
   "id": "d1833198",
   "metadata": {},
   "source": [
    "# Scenario"
   ]
  },
  {
   "cell_type": "markdown",
   "id": "79222c79",
   "metadata": {},
   "source": [
    "A fast-food chain plans to add a new item to its menu. However, they are still undecided between three possible marketing campaigns for promoting the new product. In order to determine which promotion has the greatest effect on sales, the new item is introduced at locations in several randomly selected markets. A different promotion is used at each location, and the weekly sales of the new item are recorded for the first four weeks."
   ]
  },
  {
   "cell_type": "markdown",
   "id": "375e59a5",
   "metadata": {},
   "source": [
    "# Goal"
   ]
  },
  {
   "cell_type": "markdown",
   "id": "45fc868a",
   "metadata": {},
   "source": [
    "Evaluate A/B testing results and decide which marketing strategy works the best."
   ]
  },
  {
   "cell_type": "markdown",
   "id": "21a9210c",
   "metadata": {},
   "source": [
    "# Dataset"
   ]
  },
  {
   "cell_type": "markdown",
   "id": "eaf49c9b",
   "metadata": {},
   "source": [
    "This is an open source dataset taken from [Kaggle.com](https://www.kaggle.com/datasets/chebotinaa/fast-food-marketing-campaign-ab-test)\n",
    "- __MarketID__: unique identifier for market\n",
    "- __MarketSize__: size of market area by sales\n",
    "- __LocationID__: unique identifier for store location\n",
    "- __AgeOfStore__: age of store in years\n",
    "- __Promotion__: one of three promotions that were tested\n",
    "- __Week__: one of four weeks when the promotions were run\n",
    "- __SalesInThousands__: sales amount for a specific LocationID, Promotion, and week"
   ]
  },
  {
   "cell_type": "markdown",
   "id": "be3af225",
   "metadata": {},
   "source": [
    "# A/B Testing"
   ]
  },
  {
   "cell_type": "markdown",
   "id": "341af243",
   "metadata": {},
   "source": [
    "There are seven steps that are generally followed while performing A/B testing - \n",
    "1) Understand business objective\n",
    "2) Set hypothesis testing parameters such as null and alternative hypothesis. Significance level and power of the test\n",
    "3) Design of experiment, that is, choosing randomization unit and target population\n",
    "4) Running the experiments and collection of data\n",
    "5) Validity checks on the collected data\n",
    "6) Interpret Results\n",
    "7) Take launch decision based on the results observed"
   ]
  },
  {
   "cell_type": "markdown",
   "id": "d0a0c050",
   "metadata": {},
   "source": [
    "# Step 1 -  Business Objective"
   ]
  },
  {
   "cell_type": "markdown",
   "id": "7dab869e",
   "metadata": {},
   "source": [
    "The given fast-food business wants to launch new products to stay competitive and we must analyze if three different marketing campaigns have any effect on the weekly sales. Therefore our success metric is `weekly sales` and the experiment is randomized at `market level`"
   ]
  },
  {
   "cell_type": "markdown",
   "id": "2003a975",
   "metadata": {},
   "source": [
    "# Step 2 - Hypothesis Testing"
   ]
  },
  {
   "cell_type": "markdown",
   "id": "16bb986a",
   "metadata": {},
   "source": [
    "Now we must decide on the paramters of hypothesis testing. Since we are tesing difference in sales between three marketing campaigns.\n",
    "\n",
    "Null Hypothesis is: There is no difference between mean weekly sales among the three campaigns\n",
    "Alternative Hypothesis is: There is a difference between mean weekly sales among the three campaigns\n",
    "\n",
    "We keep significance at 5% and the power of test at 80%"
   ]
  },
  {
   "cell_type": "markdown",
   "id": "97b1c7f9",
   "metadata": {},
   "source": [
    "# Step 3 - Experiment Design "
   ]
  },
  {
   "cell_type": "markdown",
   "id": "7703752d",
   "metadata": {},
   "source": [
    "The target audience for our experiment is the customers who consume fast-food and the experiment is randomized at market level"
   ]
  },
  {
   "cell_type": "markdown",
   "id": "2dbf11cc",
   "metadata": {},
   "source": [
    "# Step 4 - Run the Experiment"
   ]
  },
  {
   "cell_type": "markdown",
   "id": "cfb1005b",
   "metadata": {},
   "source": [
    "This step has been taken care of and we have the data from the experiement. Now we move on to analyze this data and interpret the results"
   ]
  },
  {
   "cell_type": "markdown",
   "id": "e5aa3e7c",
   "metadata": {},
   "source": [
    "# Step 5 - Validity Checks"
   ]
  },
  {
   "cell_type": "code",
   "execution_count": 1,
   "id": "7e75b32e",
   "metadata": {},
   "outputs": [],
   "source": [
    "import pandas as pd\n",
    "import numpy as np\n",
    "import matplotlib.pyplot as plt\n",
    "import seaborn as sns"
   ]
  },
  {
   "cell_type": "code",
   "execution_count": 2,
   "id": "c727df9c",
   "metadata": {},
   "outputs": [
    {
     "name": "stdout",
     "output_type": "stream",
     "text": [
      "(548, 7)\n"
     ]
    },
    {
     "data": {
      "text/html": [
       "<div>\n",
       "<style scoped>\n",
       "    .dataframe tbody tr th:only-of-type {\n",
       "        vertical-align: middle;\n",
       "    }\n",
       "\n",
       "    .dataframe tbody tr th {\n",
       "        vertical-align: top;\n",
       "    }\n",
       "\n",
       "    .dataframe thead th {\n",
       "        text-align: right;\n",
       "    }\n",
       "</style>\n",
       "<table border=\"1\" class=\"dataframe\">\n",
       "  <thead>\n",
       "    <tr style=\"text-align: right;\">\n",
       "      <th></th>\n",
       "      <th>MarketID</th>\n",
       "      <th>MarketSize</th>\n",
       "      <th>LocationID</th>\n",
       "      <th>AgeOfStore</th>\n",
       "      <th>Promotion</th>\n",
       "      <th>week</th>\n",
       "      <th>SalesInThousands</th>\n",
       "    </tr>\n",
       "  </thead>\n",
       "  <tbody>\n",
       "    <tr>\n",
       "      <th>0</th>\n",
       "      <td>1</td>\n",
       "      <td>Medium</td>\n",
       "      <td>1</td>\n",
       "      <td>4</td>\n",
       "      <td>3</td>\n",
       "      <td>1</td>\n",
       "      <td>33.73</td>\n",
       "    </tr>\n",
       "    <tr>\n",
       "      <th>1</th>\n",
       "      <td>1</td>\n",
       "      <td>Medium</td>\n",
       "      <td>1</td>\n",
       "      <td>4</td>\n",
       "      <td>3</td>\n",
       "      <td>2</td>\n",
       "      <td>35.67</td>\n",
       "    </tr>\n",
       "    <tr>\n",
       "      <th>2</th>\n",
       "      <td>1</td>\n",
       "      <td>Medium</td>\n",
       "      <td>1</td>\n",
       "      <td>4</td>\n",
       "      <td>3</td>\n",
       "      <td>3</td>\n",
       "      <td>29.03</td>\n",
       "    </tr>\n",
       "    <tr>\n",
       "      <th>3</th>\n",
       "      <td>1</td>\n",
       "      <td>Medium</td>\n",
       "      <td>1</td>\n",
       "      <td>4</td>\n",
       "      <td>3</td>\n",
       "      <td>4</td>\n",
       "      <td>39.25</td>\n",
       "    </tr>\n",
       "    <tr>\n",
       "      <th>4</th>\n",
       "      <td>1</td>\n",
       "      <td>Medium</td>\n",
       "      <td>2</td>\n",
       "      <td>5</td>\n",
       "      <td>2</td>\n",
       "      <td>1</td>\n",
       "      <td>27.81</td>\n",
       "    </tr>\n",
       "  </tbody>\n",
       "</table>\n",
       "</div>"
      ],
      "text/plain": [
       "   MarketID MarketSize  LocationID  AgeOfStore  Promotion  week  \\\n",
       "0         1     Medium           1           4          3     1   \n",
       "1         1     Medium           1           4          3     2   \n",
       "2         1     Medium           1           4          3     3   \n",
       "3         1     Medium           1           4          3     4   \n",
       "4         1     Medium           2           5          2     1   \n",
       "\n",
       "   SalesInThousands  \n",
       "0             33.73  \n",
       "1             35.67  \n",
       "2             29.03  \n",
       "3             39.25  \n",
       "4             27.81  "
      ]
     },
     "execution_count": 2,
     "metadata": {},
     "output_type": "execute_result"
    }
   ],
   "source": [
    "df = pd.read_csv(\"./data/marketing_campaigns_data.csv\")\n",
    "print(df.shape)\n",
    "df.head()"
   ]
  },
  {
   "cell_type": "code",
   "execution_count": 3,
   "id": "43ca4496",
   "metadata": {},
   "outputs": [
    {
     "data": {
      "text/plain": [
       "MarketID              int64\n",
       "MarketSize           object\n",
       "LocationID            int64\n",
       "AgeOfStore            int64\n",
       "Promotion             int64\n",
       "week                  int64\n",
       "SalesInThousands    float64\n",
       "dtype: object"
      ]
     },
     "execution_count": 3,
     "metadata": {},
     "output_type": "execute_result"
    }
   ],
   "source": [
    "df.dtypes"
   ]
  },
  {
   "cell_type": "code",
   "execution_count": 4,
   "id": "72efc544",
   "metadata": {},
   "outputs": [
    {
     "data": {
      "text/plain": [
       "MarketID            0\n",
       "MarketSize          0\n",
       "LocationID          0\n",
       "AgeOfStore          0\n",
       "Promotion           0\n",
       "week                0\n",
       "SalesInThousands    0\n",
       "dtype: int64"
      ]
     },
     "execution_count": 4,
     "metadata": {},
     "output_type": "execute_result"
    }
   ],
   "source": [
    "df.isna().sum()"
   ]
  },
  {
   "cell_type": "code",
   "execution_count": 5,
   "id": "941289e0",
   "metadata": {},
   "outputs": [
    {
     "data": {
      "text/plain": [
       "0"
      ]
     },
     "execution_count": 5,
     "metadata": {},
     "output_type": "execute_result"
    }
   ],
   "source": [
    "df.duplicated().sum()"
   ]
  },
  {
   "cell_type": "code",
   "execution_count": 6,
   "id": "78f26a69",
   "metadata": {},
   "outputs": [
    {
     "data": {
      "text/html": [
       "<div>\n",
       "<style scoped>\n",
       "    .dataframe tbody tr th:only-of-type {\n",
       "        vertical-align: middle;\n",
       "    }\n",
       "\n",
       "    .dataframe tbody tr th {\n",
       "        vertical-align: top;\n",
       "    }\n",
       "\n",
       "    .dataframe thead th {\n",
       "        text-align: right;\n",
       "    }\n",
       "</style>\n",
       "<table border=\"1\" class=\"dataframe\">\n",
       "  <thead>\n",
       "    <tr style=\"text-align: right;\">\n",
       "      <th></th>\n",
       "      <th>MarketID</th>\n",
       "      <th>MarketSize</th>\n",
       "      <th>Count</th>\n",
       "      <th>MeanSalesInThousands</th>\n",
       "    </tr>\n",
       "  </thead>\n",
       "  <tbody>\n",
       "    <tr>\n",
       "      <th>2</th>\n",
       "      <td>3</td>\n",
       "      <td>Large</td>\n",
       "      <td>88</td>\n",
       "      <td>84.971705</td>\n",
       "    </tr>\n",
       "    <tr>\n",
       "      <th>1</th>\n",
       "      <td>2</td>\n",
       "      <td>Small</td>\n",
       "      <td>24</td>\n",
       "      <td>61.761250</td>\n",
       "    </tr>\n",
       "    <tr>\n",
       "      <th>3</th>\n",
       "      <td>4</td>\n",
       "      <td>Small</td>\n",
       "      <td>36</td>\n",
       "      <td>54.508056</td>\n",
       "    </tr>\n",
       "    <tr>\n",
       "      <th>9</th>\n",
       "      <td>10</td>\n",
       "      <td>Large</td>\n",
       "      <td>80</td>\n",
       "      <td>53.776250</td>\n",
       "    </tr>\n",
       "    <tr>\n",
       "      <th>8</th>\n",
       "      <td>9</td>\n",
       "      <td>Medium</td>\n",
       "      <td>40</td>\n",
       "      <td>52.940750</td>\n",
       "    </tr>\n",
       "    <tr>\n",
       "      <th>7</th>\n",
       "      <td>8</td>\n",
       "      <td>Medium</td>\n",
       "      <td>48</td>\n",
       "      <td>48.952917</td>\n",
       "    </tr>\n",
       "    <tr>\n",
       "      <th>4</th>\n",
       "      <td>5</td>\n",
       "      <td>Medium</td>\n",
       "      <td>60</td>\n",
       "      <td>48.838000</td>\n",
       "    </tr>\n",
       "    <tr>\n",
       "      <th>6</th>\n",
       "      <td>7</td>\n",
       "      <td>Medium</td>\n",
       "      <td>60</td>\n",
       "      <td>44.475333</td>\n",
       "    </tr>\n",
       "    <tr>\n",
       "      <th>5</th>\n",
       "      <td>6</td>\n",
       "      <td>Medium</td>\n",
       "      <td>60</td>\n",
       "      <td>36.397500</td>\n",
       "    </tr>\n",
       "    <tr>\n",
       "      <th>0</th>\n",
       "      <td>1</td>\n",
       "      <td>Medium</td>\n",
       "      <td>52</td>\n",
       "      <td>35.101731</td>\n",
       "    </tr>\n",
       "  </tbody>\n",
       "</table>\n",
       "</div>"
      ],
      "text/plain": [
       "   MarketID MarketSize  Count  MeanSalesInThousands\n",
       "2         3      Large     88             84.971705\n",
       "1         2      Small     24             61.761250\n",
       "3         4      Small     36             54.508056\n",
       "9        10      Large     80             53.776250\n",
       "8         9     Medium     40             52.940750\n",
       "7         8     Medium     48             48.952917\n",
       "4         5     Medium     60             48.838000\n",
       "6         7     Medium     60             44.475333\n",
       "5         6     Medium     60             36.397500\n",
       "0         1     Medium     52             35.101731"
      ]
     },
     "execution_count": 6,
     "metadata": {},
     "output_type": "execute_result"
    }
   ],
   "source": [
    "df2 = df.groupby(['MarketID', 'MarketSize'], as_index=False).aggregate(\n",
    "    {'Promotion': 'count', 'SalesInThousands': 'mean'})\n",
    "\n",
    "df2.sort_values(by = 'SalesInThousands', ascending = False, inplace=True)\n",
    "\n",
    "df2.rename(columns = {'Promotion': 'Count', 'SalesInThousands': 'MeanSalesInThousands'}, inplace = True)\n",
    "df2"
   ]
  },
  {
   "cell_type": "markdown",
   "id": "bd6e96cf",
   "metadata": {},
   "source": [
    "## Explore data at promotion level"
   ]
  },
  {
   "cell_type": "code",
   "execution_count": 7,
   "id": "27d67f3d",
   "metadata": {},
   "outputs": [],
   "source": [
    "count_df = df['Promotion'].value_counts().sort_index().to_frame('Count').reset_index()\n",
    "count_df.columns = ['Promotion', 'Count']"
   ]
  },
  {
   "cell_type": "code",
   "execution_count": 8,
   "id": "a85c3166",
   "metadata": {
    "scrolled": false
   },
   "outputs": [
    {
     "data": {
      "image/png": "[encoded data removed]",
      "text/plain": [
       "<Figure size 500x800 with 2 Axes>"
      ]
     },
     "metadata": {},
     "output_type": "display_data"
    }
   ],
   "source": [
    "# create two subplots. One for bar plot and another one for box plot\n",
    "fig, (ax1, ax2) = plt.subplots(2, 1, figsize = (5, 8))\n",
    "\n",
    "# plotting count for each promotion\n",
    "sns.barplot(y = 'Count', x = 'Promotion', data = count_df, ax = ax1)\n",
    "\n",
    "for container in ax1.containers:\n",
    "    ax1.bar_label(container)\n",
    "ax1.set_title('Number of Promotions')\n",
    "\n",
    "# plotting sales in each promotion\n",
    "sns.boxplot(y = 'SalesInThousands', x = 'Promotion', data = df,\n",
    "            showmeans = True, meanprops = {'markerfacecolor': 'white'}, ax = ax2)\n",
    "ax2.set_title('Distribution of Sales')\n",
    "fig.subplots_adjust(hspace = 0.3)"
   ]
  },
  {
   "cell_type": "markdown",
   "id": "526e1cb4",
   "metadata": {},
   "source": [
    "We can see that the distribution of sales with promotions 1 and 3 is higher"
   ]
  },
  {
   "cell_type": "markdown",
   "id": "dec8c092",
   "metadata": {},
   "source": [
    "## Explore data at market level"
   ]
  },
  {
   "cell_type": "code",
   "execution_count": 9,
   "id": "5f75df99",
   "metadata": {
    "scrolled": true
   },
   "outputs": [
    {
     "data": {
      "text/html": [
       "<div>\n",
       "<style scoped>\n",
       "    .dataframe tbody tr th:only-of-type {\n",
       "        vertical-align: middle;\n",
       "    }\n",
       "\n",
       "    .dataframe tbody tr th {\n",
       "        vertical-align: top;\n",
       "    }\n",
       "\n",
       "    .dataframe thead th {\n",
       "        text-align: right;\n",
       "    }\n",
       "</style>\n",
       "<table border=\"1\" class=\"dataframe\">\n",
       "  <thead>\n",
       "    <tr style=\"text-align: right;\">\n",
       "      <th></th>\n",
       "      <th>MarketSize</th>\n",
       "      <th>Promotion</th>\n",
       "      <th>Count</th>\n",
       "    </tr>\n",
       "  </thead>\n",
       "  <tbody>\n",
       "    <tr>\n",
       "      <th>0</th>\n",
       "      <td>Large</td>\n",
       "      <td>1</td>\n",
       "      <td>56</td>\n",
       "    </tr>\n",
       "    <tr>\n",
       "      <th>1</th>\n",
       "      <td>Large</td>\n",
       "      <td>2</td>\n",
       "      <td>64</td>\n",
       "    </tr>\n",
       "    <tr>\n",
       "      <th>2</th>\n",
       "      <td>Large</td>\n",
       "      <td>3</td>\n",
       "      <td>48</td>\n",
       "    </tr>\n",
       "    <tr>\n",
       "      <th>3</th>\n",
       "      <td>Medium</td>\n",
       "      <td>1</td>\n",
       "      <td>96</td>\n",
       "    </tr>\n",
       "    <tr>\n",
       "      <th>4</th>\n",
       "      <td>Medium</td>\n",
       "      <td>2</td>\n",
       "      <td>108</td>\n",
       "    </tr>\n",
       "    <tr>\n",
       "      <th>5</th>\n",
       "      <td>Medium</td>\n",
       "      <td>3</td>\n",
       "      <td>116</td>\n",
       "    </tr>\n",
       "    <tr>\n",
       "      <th>6</th>\n",
       "      <td>Small</td>\n",
       "      <td>1</td>\n",
       "      <td>20</td>\n",
       "    </tr>\n",
       "    <tr>\n",
       "      <th>7</th>\n",
       "      <td>Small</td>\n",
       "      <td>2</td>\n",
       "      <td>16</td>\n",
       "    </tr>\n",
       "    <tr>\n",
       "      <th>8</th>\n",
       "      <td>Small</td>\n",
       "      <td>3</td>\n",
       "      <td>24</td>\n",
       "    </tr>\n",
       "  </tbody>\n",
       "</table>\n",
       "</div>"
      ],
      "text/plain": [
       "  MarketSize  Promotion  Count\n",
       "0      Large          1     56\n",
       "1      Large          2     64\n",
       "2      Large          3     48\n",
       "3     Medium          1     96\n",
       "4     Medium          2    108\n",
       "5     Medium          3    116\n",
       "6      Small          1     20\n",
       "7      Small          2     16\n",
       "8      Small          3     24"
      ]
     },
     "execution_count": 9,
     "metadata": {},
     "output_type": "execute_result"
    }
   ],
   "source": [
    "count_df2 = df.groupby(['MarketSize', 'Promotion'])['MarketID'].count().reset_index()\n",
    "count_df2.columns = ['MarketSize', 'Promotion', 'Count']\n",
    "count_df2"
   ]
  },
  {
   "cell_type": "code",
   "execution_count": 10,
   "id": "79862610",
   "metadata": {},
   "outputs": [
    {
     "data": {
      "image/png": "[encoded data removed]",
      "text/plain": [
       "<Figure size 1000x1000 with 2 Axes>"
      ]
     },
     "metadata": {},
     "output_type": "display_data"
    }
   ],
   "source": [
    "fig, (ax1, ax2) = plt.subplots(2, 1, figsize = (10, 10))\n",
    "\n",
    "sns.barplot(y = 'Count', x = 'MarketSize', hue = 'Promotion', data = count_df2,\n",
    "            order = ['Small', 'Medium', 'Large'], ax = ax1)\n",
    "\n",
    "for container in ax1.containers:\n",
    "    ax1.bar_label(container)\n",
    "ax1.set_title('Number of Promotions')\n",
    "\n",
    "sns.boxplot(y = 'SalesInThousands', x = 'MarketSize', hue = 'Promotion', data = df,\n",
    "            order = ['Small', 'Medium', 'Large'], showmeans = True,\n",
    "            meanprops = {'markerfacecolor': 'white'}, ax = ax2)\n",
    "\n",
    "ax2.set_title('Distribution of Sales')\n",
    "fig.subplots_adjust(hspace = 0.3)"
   ]
  },
  {
   "cell_type": "markdown",
   "id": "b135d26c",
   "metadata": {},
   "source": [
    "Evidently, a similar pattern is observed across markets, which provides preliminary indications of the future direction of the analysis.\n",
    "\n",
    "Specifically, Promotions 1 and 3 demonstrate an increase in the mean sales, whereas Promotion 2 exhibits comparatively lower effectiveness.\n",
    "\n",
    "Nonetheless, drawing conclusions solely based on boxplots may lack credibility. Therefore, to substantiate our findings, an ANOVA test can be conducted to determine the statistical significance of differences in means among promotions."
   ]
  },
  {
   "cell_type": "markdown",
   "id": "ba988587",
   "metadata": {},
   "source": [
    "Prior to conducting the ANOVA test, it is necessary to satisfy three assumptions regarding the data:\n",
    "\n",
    "1) All groups must be independent of each other, and the data should not be based on repeated measurements.\n",
    "\n",
    "2) The responses, i.e., the data, should follow a normal distribution.\n",
    "\n",
    "3) The variances of all groups must be comparable, i.e., approximately equal."
   ]
  },
  {
   "cell_type": "markdown",
   "id": "35596695",
   "metadata": {},
   "source": [
    "For the purpose of simplicity, we have made the assumption that the data follows a normal distribution. However, if this assumption is not met, an alternative statistical test, known as the Kruskal-Wallis test, can be employed. This test may be considered as an equivalent of the ANOVA test, but without the normal distribution assumption for the data."
   ]
  },
  {
   "cell_type": "markdown",
   "id": "f72ec777",
   "metadata": {},
   "source": [
    "# Step 6 - Interpret Results "
   ]
  },
  {
   "cell_type": "markdown",
   "id": "f2a4cae9",
   "metadata": {},
   "source": [
    "## At Promotion Level"
   ]
  },
  {
   "cell_type": "code",
   "execution_count": 11,
   "id": "71ebdf77",
   "metadata": {},
   "outputs": [],
   "source": [
    "p1_sale = df[df['Promotion'] == 1]['SalesInThousands']\n",
    "p2_sale = df[df['Promotion'] == 2]['SalesInThousands']\n",
    "p3_sale = df[df['Promotion'] == 3]['SalesInThousands']"
   ]
  },
  {
   "cell_type": "code",
   "execution_count": 12,
   "id": "f2815316",
   "metadata": {},
   "outputs": [],
   "source": [
    "import scipy.stats as stats"
   ]
  },
  {
   "cell_type": "markdown",
   "id": "59a21861",
   "metadata": {},
   "source": [
    "The one-way ANOVA tests the null hypothesis that two or more groups have the same population mean. The test is applied to samples from two or more groups, possibly with differing sizes."
   ]
  },
  {
   "cell_type": "code",
   "execution_count": 13,
   "id": "0bd19915",
   "metadata": {},
   "outputs": [
    {
     "data": {
      "text/plain": [
       "F_onewayResult(statistic=21.953485793080677, pvalue=6.765849261408714e-10)"
      ]
     },
     "execution_count": 13,
     "metadata": {},
     "output_type": "execute_result"
    }
   ],
   "source": [
    "stats.f_oneway(p1_sale, p2_sale, p3_sale)"
   ]
  },
  {
   "cell_type": "markdown",
   "id": "9841299a",
   "metadata": {},
   "source": [
    "The results of the statistical test reveal an F-statistic value of 21.95, and a corresponding p-value that is extremely low, approaching zero. This outcome indicates the presence of a notable impact of promotional activities on sales revenue."
   ]
  },
  {
   "cell_type": "markdown",
   "id": "dc9e7e41",
   "metadata": {},
   "source": [
    "## At Market Level"
   ]
  },
  {
   "cell_type": "code",
   "execution_count": 14,
   "id": "81879c9d",
   "metadata": {},
   "outputs": [],
   "source": [
    "df['market-promotion'] = df['MarketSize'].astype(str) + '-' + df['Promotion'].astype(str)\n",
    "\n",
    "large1 = df.loc[(df['market-promotion']=='Large-1'), 'SalesInThousands']\n",
    "large2 = df.loc[(df['market-promotion']=='Large-2'), 'SalesInThousands']\n",
    "large3 = df.loc[(df['market-promotion']=='Large-3'), 'SalesInThousands']\n",
    "\n",
    "medium1 = df.loc[(df['market-promotion']=='Medium-1'), 'SalesInThousands']\n",
    "medium2 = df.loc[(df['market-promotion']=='Medium-2'), 'SalesInThousands']\n",
    "medium3 = df.loc[(df['market-promotion']=='Medium-3'), 'SalesInThousands']\n",
    "\n",
    "small1 = df.loc[(df['market-promotion']=='Small-1'), 'SalesInThousands']\n",
    "small2 = df.loc[(df['market-promotion']=='Small-2'), 'SalesInThousands']\n",
    "small3 = df.loc[(df['market-promotion']=='Small-3'), 'SalesInThousands']"
   ]
  },
  {
   "cell_type": "code",
   "execution_count": 15,
   "id": "75e2e321",
   "metadata": {},
   "outputs": [
    {
     "data": {
      "text/plain": [
       "F_onewayResult(statistic=16.57648112557373, pvalue=2.115939995841426e-06)"
      ]
     },
     "execution_count": 15,
     "metadata": {},
     "output_type": "execute_result"
    }
   ],
   "source": [
    "stats.f_oneway(small1, small2, small3)"
   ]
  },
  {
   "cell_type": "code",
   "execution_count": 16,
   "id": "daf6a985",
   "metadata": {},
   "outputs": [
    {
     "data": {
      "text/plain": [
       "F_onewayResult(statistic=29.68813375084531, pvalue=1.5197404971604578e-12)"
      ]
     },
     "execution_count": 16,
     "metadata": {},
     "output_type": "execute_result"
    }
   ],
   "source": [
    "stats.f_oneway(medium1, medium2, medium3)"
   ]
  },
  {
   "cell_type": "code",
   "execution_count": 17,
   "id": "9c358bdc",
   "metadata": {},
   "outputs": [
    {
     "data": {
      "text/plain": [
       "F_onewayResult(statistic=21.44511115677835, pvalue=5.261567483455427e-09)"
      ]
     },
     "execution_count": 17,
     "metadata": {},
     "output_type": "execute_result"
    }
   ],
   "source": [
    "stats.f_oneway(large1, large2, large3)"
   ]
  },
  {
   "cell_type": "markdown",
   "id": "723a1ed7",
   "metadata": {},
   "source": [
    "The results of these tests suggests that there exists a statistically significant difference in the weekly sales figures among all the markets."
   ]
  },
  {
   "cell_type": "markdown",
   "id": "5e937ad1",
   "metadata": {},
   "source": [
    "# Step 7 - Launch Decision"
   ]
  },
  {
   "cell_type": "code",
   "execution_count": 18,
   "id": "fe97203c",
   "metadata": {},
   "outputs": [],
   "source": [
    "from statsmodels.stats.multicomp import pairwise_tukeyhsd"
   ]
  },
  {
   "cell_type": "markdown",
   "id": "3b9af77f",
   "metadata": {},
   "source": [
    "Tukey's Honest Significant Difference (HSD) test is a post hoc test commonly used to assess the significance of differences between pairs of group means. Tukey HSD is often a follow up to one-way ANOVA, when the F-test has revealed the existence of a significant difference between some of the tested groups."
   ]
  },
  {
   "cell_type": "code",
   "execution_count": 19,
   "id": "8368345f",
   "metadata": {},
   "outputs": [
    {
     "data": {
      "text/html": [
       "<table class=\"simpletable\">\n",
       "<caption>Multiple Comparison of Means - Tukey HSD, FWER=0.05</caption>\n",
       "<tr>\n",
       "  <th>group1</th> <th>group2</th> <th>meandiff</th>  <th>p-adj</th>   <th>lower</th>   <th>upper</th>  <th>reject</th>\n",
       "</tr>\n",
       "<tr>\n",
       "     <td>1</td>      <td>2</td>   <td>-10.7696</td>   <td>0.0</td>  <td>-14.7738</td> <td>-6.7654</td>  <td>True</td> \n",
       "</tr>\n",
       "<tr>\n",
       "     <td>1</td>      <td>3</td>    <td>-2.7345</td> <td>0.2444</td>  <td>-6.7388</td> <td>1.2697</td>   <td>False</td>\n",
       "</tr>\n",
       "<tr>\n",
       "     <td>2</td>      <td>3</td>    <td>8.0351</td>    <td>0.0</td>   <td>4.1208</td>  <td>11.9493</td>  <td>True</td> \n",
       "</tr>\n",
       "</table>"
      ],
      "text/plain": [
       "<class 'statsmodels.iolib.table.SimpleTable'>"
      ]
     },
     "execution_count": 19,
     "metadata": {},
     "output_type": "execute_result"
    },
    {
     "data": {
      "image/png": "[encoded data removed]",
      "text/plain": [
       "<Figure size 1000x600 with 1 Axes>"
      ]
     },
     "metadata": {},
     "output_type": "display_data"
    }
   ],
   "source": [
    "tukey = pairwise_tukeyhsd(endog=df['SalesInThousands'], groups=df['Promotion'], alpha=0.05)\n",
    "\n",
    "tukey.plot_simultaneous()\n",
    "\n",
    "plt.title(\"Tukey post hoc test for three types of promotion in all market sizes\")\n",
    "tukey.summary()"
   ]
  },
  {
   "cell_type": "markdown",
   "id": "26d008be",
   "metadata": {},
   "source": [
    "The Tukey post hoc test indicates that there is a significant difference between promotion 2 and others. However, there is no difference between 1 and 3."
   ]
  },
  {
   "cell_type": "markdown",
   "id": "13fe3767",
   "metadata": {},
   "source": [
    "## Small Market Size"
   ]
  },
  {
   "cell_type": "code",
   "execution_count": 20,
   "id": "8f6abbb5",
   "metadata": {},
   "outputs": [
    {
     "data": {
      "text/html": [
       "<table class=\"simpletable\">\n",
       "<caption>Multiple Comparison of Means - Tukey HSD, FWER=0.05</caption>\n",
       "<tr>\n",
       "  <th>group1</th> <th>group2</th> <th>meandiff</th>  <th>p-adj</th>  <th>lower</th>   <th>upper</th>  <th>reject</th>\n",
       "</tr>\n",
       "<tr>\n",
       "     <td>1</td>      <td>2</td>    <td>-9.3519</td>   <td>0.0</td>  <td>-13.683</td> <td>-5.0208</td>  <td>True</td> \n",
       "</tr>\n",
       "<tr>\n",
       "     <td>1</td>      <td>3</td>    <td>-0.6483</td> <td>0.9161</td> <td>-4.5579</td> <td>3.2612</td>   <td>False</td>\n",
       "</tr>\n",
       "<tr>\n",
       "     <td>2</td>      <td>3</td>    <td>8.7035</td>    <td>0.0</td>  <td>4.5359</td>  <td>12.8712</td>  <td>True</td> \n",
       "</tr>\n",
       "</table>"
      ],
      "text/plain": [
       "<class 'statsmodels.iolib.table.SimpleTable'>"
      ]
     },
     "execution_count": 20,
     "metadata": {},
     "output_type": "execute_result"
    },
    {
     "data": {
      "image/png": "[encoded data removed]",
      "text/plain": [
       "<Figure size 1000x600 with 1 Axes>"
      ]
     },
     "metadata": {},
     "output_type": "display_data"
    }
   ],
   "source": [
    "small = df.loc[df['MarketSize'] == 'Small', :]\n",
    "\n",
    "tukey_small = pairwise_tukeyhsd(endog=small['SalesInThousands'], groups=small['Promotion'], alpha=0.05)\n",
    "tukey_small.plot_simultaneous()    \n",
    "plt.title(\"Multiple Comparisons Between All Promotion in Small Market\")\n",
    "plt.xlabel(\"Sales In Thousands\")\n",
    "plt.ylabel(\"Promotion\")\n",
    "\n",
    "tukey_small.summary()"
   ]
  },
  {
   "cell_type": "markdown",
   "id": "18dc4e6c",
   "metadata": {},
   "source": [
    "## Medium Market Size"
   ]
  },
  {
   "cell_type": "code",
   "execution_count": 21,
   "id": "80edfbe5",
   "metadata": {},
   "outputs": [
    {
     "data": {
      "text/html": [
       "<table class=\"simpletable\">\n",
       "<caption>Multiple Comparison of Means - Tukey HSD, FWER=0.05</caption>\n",
       "<tr>\n",
       "  <th>group1</th> <th>group2</th> <th>meandiff</th>  <th>p-adj</th>   <th>lower</th>   <th>upper</th>  <th>reject</th>\n",
       "</tr>\n",
       "<tr>\n",
       "     <td>1</td>      <td>2</td>    <td>-8.5583</td>   <td>0.0</td>  <td>-11.3107</td> <td>-5.8058</td>  <td>True</td> \n",
       "</tr>\n",
       "<tr>\n",
       "     <td>1</td>      <td>3</td>    <td>-2.2037</td> <td>0.1356</td>  <td>-4.9111</td> <td>0.5037</td>   <td>False</td>\n",
       "</tr>\n",
       "<tr>\n",
       "     <td>2</td>      <td>3</td>    <td>6.3545</td>    <td>0.0</td>   <td>3.7307</td>  <td>8.9783</td>   <td>True</td> \n",
       "</tr>\n",
       "</table>"
      ],
      "text/plain": [
       "<class 'statsmodels.iolib.table.SimpleTable'>"
      ]
     },
     "execution_count": 21,
     "metadata": {},
     "output_type": "execute_result"
    },
    {
     "data": {
      "image/png": "[encoded data removed]",
      "text/plain": [
       "<Figure size 1000x600 with 1 Axes>"
      ]
     },
     "metadata": {},
     "output_type": "display_data"
    }
   ],
   "source": [
    "medium = df.loc[df['MarketSize'] == 'Medium', :]\n",
    "\n",
    "tukey_medium = pairwise_tukeyhsd(endog=medium['SalesInThousands'], groups=medium['Promotion'], alpha=0.05)\n",
    "tukey_medium.plot_simultaneous()    \n",
    "plt.title(\"Multiple Comparisons Between All Promotion in Medium Market\")\n",
    "plt.xlabel(\"Sales In Thousands\")\n",
    "plt.ylabel(\"Promotion\")\n",
    "\n",
    "tukey_medium.summary()  "
   ]
  },
  {
   "cell_type": "markdown",
   "id": "2fa03a68",
   "metadata": {},
   "source": [
    "## Large Market Size"
   ]
  },
  {
   "cell_type": "code",
   "execution_count": 22,
   "id": "a2cf7d79",
   "metadata": {},
   "outputs": [
    {
     "data": {
      "text/html": [
       "<table class=\"simpletable\">\n",
       "<caption>Multiple Comparison of Means - Tukey HSD, FWER=0.05</caption>\n",
       "<tr>\n",
       "  <th>group1</th> <th>group2</th> <th>meandiff</th> <th>p-adj</th>   <th>lower</th>   <th>upper</th>  <th>reject</th>\n",
       "</tr>\n",
       "<tr>\n",
       "     <td>1</td>      <td>2</td>   <td>-14.9139</td>  <td>0.0</td>  <td>-21.5279</td> <td>-8.2998</td>  <td>True</td> \n",
       "</tr>\n",
       "<tr>\n",
       "     <td>1</td>      <td>3</td>    <td>1.9681</td>  <td>0.79</td>   <td>-5.1418</td>  <td>9.078</td>   <td>False</td>\n",
       "</tr>\n",
       "<tr>\n",
       "     <td>2</td>      <td>3</td>    <td>16.8819</td>  <td>0.0</td>   <td>9.9802</td>  <td>23.7837</td>  <td>True</td> \n",
       "</tr>\n",
       "</table>"
      ],
      "text/plain": [
       "<class 'statsmodels.iolib.table.SimpleTable'>"
      ]
     },
     "execution_count": 22,
     "metadata": {},
     "output_type": "execute_result"
    },
    {
     "data": {
      "image/png": "[encoded data removed]",
      "text/plain": [
       "<Figure size 1000x600 with 1 Axes>"
      ]
     },
     "metadata": {},
     "output_type": "display_data"
    }
   ],
   "source": [
    "large = df.loc[df['MarketSize'] == 'Large', :]\n",
    "\n",
    "tukey_large = pairwise_tukeyhsd(endog=large['SalesInThousands'], groups=large['Promotion'], alpha=0.05)  \n",
    "\n",
    "tukey_large.plot_simultaneous()    \n",
    "plt.title(\"Multiple Comparisons Between All Promotion in Large Market\")\n",
    "plt.xlabel(\"Sales In Thousands\")\n",
    "plt.ylabel(\"Promotion\")\n",
    "\n",
    "tukey_large.summary() "
   ]
  },
  {
   "cell_type": "markdown",
   "id": "bfdcece6",
   "metadata": {},
   "source": [
    "The outcomes of the ANOVA and post hoc tests conducted on markets of varying sizes, i.e., small, medium, and large, have yielded similar results to those observed in the overall analysis."
   ]
  },
  {
   "cell_type": "markdown",
   "id": "34ea9d29",
   "metadata": {},
   "source": [
    "# Conclusion"
   ]
  },
  {
   "cell_type": "markdown",
   "id": "e6cb0e16",
   "metadata": {},
   "source": [
    "The statistical analyses reveal that promotional activities 1 and 3 generate higher average revenues than promotion 2 in all market sizes. As a result, the organization may consider utilizing promotions 1 and 3 as part of its forthcoming marketing campaigns."
   ]
  },
  {
   "cell_type": "code",
   "execution_count": null,
   "id": "b1852954",
   "metadata": {},
   "outputs": [],
   "source": []
  }
 ],
 "metadata": {
  "kernelspec": {
   "display_name": "Python 3 (ipykernel)",
   "language": "python",
   "name": "python3"
  },
  "language_info": {
   "codemirror_mode": {
    "name": "ipython",
    "version": 3
   },
   "file_extension": ".py",
   "mimetype": "text/x-python",
   "name": "python",
   "nbconvert_exporter": "python",
   "pygments_lexer": "ipython3",
   "version": "3.9.16"
  }
 },
 "nbformat": 4,
 "nbformat_minor": 5
}
